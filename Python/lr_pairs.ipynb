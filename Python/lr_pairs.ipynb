{
 "cells": [
  {
   "cell_type": "code",
   "execution_count": 1,
   "metadata": {},
   "outputs": [],
   "source": [
    "import pandas as pd"
   ]
  },
  {
   "cell_type": "code",
   "execution_count": 2,
   "metadata": {},
   "outputs": [],
   "source": [
    "# scTHI - Table S4_R1.xlsx\n",
    "# L-tumor__R-myeloid_paracrine\n",
    "tumor_myeloid =  pd.read_excel(\".././literature/scTHI_supplementary/Table S4_R1.xlsx\", index_col=0, skiprows=1, sheet_name=\"L-tumor__R-myeloid_paracrine\")\n",
    "tumor_myeloid = tumor_myeloid.set_index(tumor_myeloid.index.str.split(\"_\", expand=True), )\n",
    "tumor_myeloid.index.names = [\"Ligand\", \"Receptor\"]\n",
    "tumor_myeloid[\"interaction_type\"] = \"paracrine\"\n",
    "tumor_myeloid = tumor_myeloid.reset_index()\n",
    "tumor_myeloid[\"cell_type_pair\"] = \"tumor_myeloid\"\n",
    "\n",
    "# L-myeloid__R-tumor_paracrine\n",
    "myeloid_tumor =  pd.read_excel(\".././literature/scTHI_supplementary/Table S4_R1.xlsx\", index_col=0, skiprows=1, sheet_name=\"L-myeloid__R-tumor_paracrine\")\n",
    "myeloid_tumor = myeloid_tumor.set_index(myeloid_tumor.index.str.split(\"_\", expand=True), )\n",
    "myeloid_tumor.index.names = [\"Ligand\", \"Receptor\"]\n",
    "myeloid_tumor[\"interaction_type\"] = \"paracrine\"\n",
    "myeloid_tumor = myeloid_tumor.reset_index()\n",
    "myeloid_tumor[\"cell_type_pair\"] = \"myeloid_tumor\"\n",
    "\n",
    "# L-tumor__R-myeloid_autocrine\n",
    "tumor_myeloid_autocrine =  pd.read_excel(\".././literature/scTHI_supplementary/Table S4_R1.xlsx\", index_col=0, skiprows=1, sheet_name=\"L-tumor__R-myeloid_autocrine\")\n",
    "tumor_myeloid_autocrine = tumor_myeloid_autocrine.set_index(tumor_myeloid_autocrine.index.str.split(\"_\", expand=True), )\n",
    "tumor_myeloid_autocrine.index.names = [\"Ligand\", \"Receptor\"]\n",
    "tumor_myeloid_autocrine[\"interaction_type\"] = \"autocrine\"\n",
    "tumor_myeloid_autocrine = tumor_myeloid_autocrine.reset_index()\n",
    "tumor_myeloid_autocrine[\"cell_type_pair\"] = \"tumor_myeloid\"\n",
    "\n",
    "# L-myeloid__R-tumor_autocrine\n",
    "myeloid_tumor_autocrine =  pd.read_excel(\".././literature/scTHI_supplementary/Table S4_R1.xlsx\", index_col=0, skiprows=1, sheet_name=\"L-myeloid__R-tumor_autocrine\")\n",
    "myeloid_tumor_autocrine = myeloid_tumor_autocrine.set_index(myeloid_tumor_autocrine.index.str.split(\"_\", expand=True), )\n",
    "myeloid_tumor_autocrine.index.names = [\"Ligand\", \"Receptor\"]\n",
    "myeloid_tumor_autocrine[\"interaction_type\"] = \"autocrine\"\n",
    "myeloid_tumor_autocrine = myeloid_tumor_autocrine.reset_index()\n",
    "myeloid_tumor_autocrine[\"cell_type_pair\"] = \"myeloid_tumor\"\n",
    "\n",
    "tumor_myeloid_combi = pd.concat([tumor_myeloid, myeloid_tumor, tumor_myeloid_autocrine, myeloid_tumor_autocrine], axis=0)\n",
    "tumor_myeloid_combi = tumor_myeloid_combi[[\"Ligand\", \"Receptor\", \"Sum\", \"pvalue\", \"interaction_type\", \"cell_type_pair\"]]\n",
    "\n",
    "# scTHI - Table S5_R1.xlsx\n",
    "# L-Tumor_R-Oligo_paracrine\n",
    "tumor_oligo =  pd.read_excel(\".././literature/scTHI_supplementary/Table S6_R1.xlsx\", index_col=0, skiprows=1, sheet_name=\"L-Tumor_R-Oligo_paracrine\")\n",
    "tumor_oligo = tumor_oligo.set_index(tumor_oligo.index.str.split(\"_\", expand=True), )\n",
    "tumor_oligo.index.names = [\"Ligand\", \"Receptor\"]\n",
    "tumor_oligo[\"interaction_type\"] = \"paracrine\"\n",
    "tumor_oligo = tumor_oligo.reset_index()\n",
    "tumor_oligo[\"cell_type_pair\"] = \"tumor_oligo\"\n",
    "\n",
    "# L-Oligo_R-Tumor_paracrine\n",
    "oligo_tumor =  pd.read_excel(\".././literature/scTHI_supplementary/Table S6_R1.xlsx\", index_col=0, skiprows=1, sheet_name=\"L-Oligo_R-Tumor_paracrine\")\n",
    "oligo_tumor = oligo_tumor.set_index(oligo_tumor.index.str.split(\"_\", expand=True), )\n",
    "oligo_tumor.index.names = [\"Ligand\", \"Receptor\"]\n",
    "oligo_tumor[\"interaction_type\"] = \"paracrine\"\n",
    "oligo_tumor = oligo_tumor.reset_index()\n",
    "oligo_tumor[\"cell_type_pair\"] = \"oligo_tumor\"\n",
    "\n",
    "# L-Tumor_R-Oligo_autocrine\n",
    "tumor_oligo_autocrine =  pd.read_excel(\".././literature/scTHI_supplementary/Table S6_R1.xlsx\", index_col=0, skiprows=1, sheet_name=\"L-Tumor_R-Oligo_autocrine\")\n",
    "tumor_oligo_autocrine = tumor_oligo_autocrine.set_index(tumor_oligo_autocrine.index.str.split(\"_\", expand=True), )\n",
    "tumor_oligo_autocrine.index.names = [\"Ligand\", \"Receptor\"]\n",
    "tumor_oligo_autocrine[\"interaction_type\"] = \"autocrine\"\n",
    "tumor_oligo_autocrine = tumor_oligo_autocrine.reset_index()\n",
    "tumor_oligo_autocrine[\"cell_type_pair\"] = \"tumor_oligo\"\n",
    "\n",
    "# L-Oligo_R-Tumor_autocrine\n",
    "oligo_tumor_autocrine =  pd.read_excel(\".././literature/scTHI_supplementary/Table S6_R1.xlsx\", index_col=0, skiprows=1, sheet_name=\"L-Oligo_R-Tumor_autocrine\")\n",
    "oligo_tumor_autocrine = oligo_tumor_autocrine.set_index(oligo_tumor_autocrine.index.str.split(\"_\", expand=True), )\n",
    "oligo_tumor_autocrine.index.names = [\"Ligand\", \"Receptor\"]\n",
    "oligo_tumor_autocrine[\"interaction_type\"] = \"autocrine\"\n",
    "oligo_tumor_autocrine = oligo_tumor_autocrine.reset_index()\n",
    "oligo_tumor_autocrine[\"cell_type_pair\"] = \"oligo_tumor\"\n",
    "\n",
    "tumor_oligo_combi = pd.concat([tumor_oligo, oligo_tumor, tumor_oligo_autocrine, oligo_tumor_autocrine])\n",
    "tumor_oligo_combi = tumor_oligo_combi.rename(columns={\"TOT\": \"Sum\"})\n",
    "tumor_oligo_combi = tumor_oligo_combi[[\"Ligand\", \"Receptor\", \"Sum\", \"pvalue\", \"interaction_type\", \"cell_type_pair\"]]\n",
    "\n",
    "# scTHI - Table S8_R1.xlsx\n",
    "# L-tumor_R-CD8_paracrine\n",
    "tumor_CD8 =  pd.read_excel(\".././literature/scTHI_supplementary/Table S8_R1.xlsx\", index_col=0, skiprows=1, sheet_name=\"L-tumor_R-CD8_paracrine\")\n",
    "tumor_CD8 = tumor_CD8.set_index(tumor_CD8.index.str.split(\"_\", expand=True), )\n",
    "tumor_CD8.index.names = [\"Ligand\", \"Receptor\"]\n",
    "tumor_CD8[\"interaction_type\"] = \"paracrine\"\n",
    "tumor_CD8 = tumor_CD8.reset_index()\n",
    "tumor_CD8[\"cell_type_pair\"] = \"tumor_CD8\"\n",
    "\n",
    "# L-CD8_R-tumor_paracrine\n",
    "CD8_tumor =  pd.read_excel(\".././literature/scTHI_supplementary/Table S8_R1.xlsx\", index_col=0, skiprows=1, sheet_name=\"L-CD8_R-tumor_paracrine\")\n",
    "CD8_tumor = CD8_tumor.set_index(CD8_tumor.index.str.split(\"_\", expand=True), )\n",
    "CD8_tumor.index.names = [\"Ligand\", \"Receptor\"]\n",
    "CD8_tumor[\"interaction_type\"] = \"paracrine\"\n",
    "CD8_tumor = CD8_tumor.reset_index()\n",
    "CD8_tumor[\"cell_type_pair\"] = \"CD8_tumor\"\n",
    "\n",
    "# L-tumor_R-CD8_autocrine\n",
    "tumor_CD8_autocrine =  pd.read_excel(\".././literature/scTHI_supplementary/Table S8_R1.xlsx\", index_col=0, skiprows=1, sheet_name=\"L-tumor_R-CD8_autocrine\")\n",
    "tumor_CD8_autocrine = tumor_CD8_autocrine.set_index(tumor_CD8_autocrine.index.str.split(\"_\", expand=True), )\n",
    "tumor_CD8_autocrine.index.names = [\"Ligand\", \"Receptor\"]\n",
    "tumor_CD8_autocrine[\"interaction_type\"] = \"autocrine\"\n",
    "tumor_CD8_autocrine = tumor_CD8_autocrine.reset_index()\n",
    "tumor_CD8_autocrine[\"cell_type_pair\"] = \"tumor_CD8\"\n",
    "\n",
    "# L-CD8_R-tumor_autocrine\n",
    "CD8_tumor_autocrine =  pd.read_excel(\".././literature/scTHI_supplementary/Table S8_R1.xlsx\", index_col=0, skiprows=1, sheet_name=\"L-CD8_R-tumor_autocrine\")\n",
    "CD8_tumor_autocrine = CD8_tumor_autocrine.set_index(CD8_tumor_autocrine.index.str.split(\"_\", expand=True), )\n",
    "CD8_tumor_autocrine.index.names = [\"Ligand\", \"Receptor\"]\n",
    "CD8_tumor_autocrine[\"interaction_type\"] = \"autocrine\"\n",
    "CD8_tumor_autocrine = CD8_tumor_autocrine.reset_index()\n",
    "CD8_tumor_autocrine[\"cell_type_pair\"] = \"CD8_tumor\"\n",
    "\n",
    "tumor_cd8_combi = pd.concat([tumor_CD8, CD8_tumor, tumor_CD8_autocrine, CD8_tumor_autocrine])\n",
    "tumor_cd8_combi = tumor_cd8_combi.rename(columns={\"TOT\": \"Sum\"})\n",
    "tumor_cd8_combi = tumor_cd8_combi[[\"Ligand\", \"Receptor\", \"Sum\", \"pvalue\", \"interaction_type\", \"cell_type_pair\"]]\n",
    "\n",
    "# scthi\n",
    "scthi = pd.concat([tumor_myeloid_combi, tumor_oligo_combi, tumor_cd8_combi])\n",
    "scthi[\"reference\"] = \"scTHI\"\n",
    "scthi.to_csv(\"../data/LR_pairs/scthi.csv\", index=False, sep=\"\\t\")\n"
   ]
  },
  {
   "cell_type": "code",
   "execution_count": 6,
   "metadata": {},
   "outputs": [
    {
     "data": {
      "text/plain": [
       "array(['tumor_myeloid', 'myeloid_tumor', 'tumor_oligo', 'oligo_tumor',\n",
       "       'tumor_CD8', 'CD8_tumor'], dtype=object)"
      ]
     },
     "execution_count": 6,
     "metadata": {},
     "output_type": "execute_result"
    }
   ],
   "source": [
    "scthi.cell_type_pair.unique()"
   ]
  },
  {
   "cell_type": "code",
   "execution_count": 3,
   "metadata": {},
   "outputs": [],
   "source": [
    "YuanD_tumor_tumor = pd.read_csv(\"../data/LR_pairs/YuanD_tumor_tumor.txt\", sep=\"\\t\")\n",
    "YuanD_tumor_tumor[\"cell_type_pair\"] = \"tumor_tumor\"\n",
    "YuanD_tumor_tumor[\"interaction_type\"] = \"autocrine\"\n",
    "\n",
    "# YuanD_macro_csc\n",
    "YuanD_macro_csc = pd.read_csv(\"../data/LR_pairs/YuanD_macro_csc.txt\", sep=\"\\t\")\n",
    "YuanD_macro_csc[\"cell_type_pair\"] = \"macrophage_csc\"\n",
    "YuanD_macro_csc[\"interaction_type\"] = \"paracrine\"\n",
    "\n",
    "# YuanD_macro_csc\n",
    "YuanD_csc_macro = pd.read_csv(\"../data/LR_pairs/YuanD_csc_macro.txt\", sep=\"\\t\")\n",
    "YuanD_csc_macro[\"cell_type_pair\"] = \"csc_macrophage\"\n",
    "YuanD_csc_macro[\"interaction_type\"] = \"paracrine\"\n",
    "\n",
    "YuanD = pd.concat([YuanD_tumor_tumor, YuanD_macro_csc,YuanD_csc_macro ])\n",
    "YuanD[\"reference\"] = \"YuanD\"\n",
    "YuanD.to_csv(\"../data/LR_pairs/YuanD.csv\", index=False, sep=\"\\t\")"
   ]
  },
  {
   "cell_type": "code",
   "execution_count": 4,
   "metadata": {},
   "outputs": [],
   "source": [
    "mrgd = pd.concat([scthi, YuanD])\n",
    "mrgd.to_csv(\"../data/LR_pairs/all_pairs.csv\", index=False, sep=\"\\t\")"
   ]
  }
 ],
 "metadata": {
  "kernelspec": {
   "display_name": "base",
   "language": "python",
   "name": "python3"
  },
  "language_info": {
   "codemirror_mode": {
    "name": "ipython",
    "version": 3
   },
   "file_extension": ".py",
   "mimetype": "text/x-python",
   "name": "python",
   "nbconvert_exporter": "python",
   "pygments_lexer": "ipython3",
   "version": "3.10.8"
  },
  "orig_nbformat": 4,
  "vscode": {
   "interpreter": {
    "hash": "c6e4e9f98eb68ad3b7c296f83d20e6de614cb42e90992a65aa266555a3137d0d"
   }
  }
 },
 "nbformat": 4,
 "nbformat_minor": 2
}
