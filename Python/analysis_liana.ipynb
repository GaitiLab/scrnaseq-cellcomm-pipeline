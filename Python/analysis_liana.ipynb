{
 "cells": [
  {
   "cell_type": "code",
   "execution_count": 98,
   "metadata": {},
   "outputs": [],
   "source": [
    "import pandas as pd\n",
    "import numpy as np\n",
    "\n",
    "import itertools\n",
    "# CellChatDB, CellPhoneDB, Ramilowski2015, ConnectomeDB2020\n"
   ]
  },
  {
   "cell_type": "code",
   "execution_count": 99,
   "metadata": {},
   "outputs": [],
   "source": [
    "# Literature interactions\n",
    "lr_pairs_lit = pd.read_csv(\"../data/LR_pairs/all_pairs.csv\", sep=\"\\t\")\n",
    "lr_pairs_lit.Receptor = lr_pairs_lit.Receptor.str.replace(\":\", \"_\")\n",
    "lr_pairs_lit[\"interaction\"] = [f\"{l} -> {r}\" for l, r in lr_pairs_lit[[\"Ligand\", \"Receptor\"]].to_numpy()]"
   ]
  },
  {
   "cell_type": "code",
   "execution_count": 115,
   "metadata": {},
   "outputs": [
    {
     "name": "stdout",
     "output_type": "stream",
     "text": [
      "329\n",
      "78\n",
      "{'BGN -> TLR2', 'NAMPT -> INSR', 'C3 -> CD46', 'RIMS2 -> ABCA1', 'NLGN2 -> NRXN2', 'IGF1 -> IGF1R', 'LTBP3 -> ITGB5', 'DLL1 -> NOTCH1', 'NLGN1 -> NRXN1', 'APP -> FPR2', 'NLGN3 -> NRXN2', 'COL1A1 -> CD44', 'APP -> CD74', 'HMGB1 -> THBD', 'IL18 -> IL1RAPL1', 'COL1A2 -> CD44', 'LRP1B -> PLAUR', 'NCAM1 -> GFRA1', 'TNC -> CNTN1'}\n",
      "19\n"
     ]
    }
   ],
   "source": [
    "print(len(set(lr_pairs_lit[lr_pairs_lit.reference == \"scTHI\"].interaction)))\n",
    "print(len(set(lr_pairs_lit[lr_pairs_lit.reference == \"YuanD\"].interaction)))\n",
    "\n",
    "common = set(lr_pairs_lit[lr_pairs_lit.reference == \"scTHI\"].interaction) & set(lr_pairs_lit[lr_pairs_lit.reference == \"YuanD\"].interaction)\n",
    "print(common)\n",
    "print(len(common))"
   ]
  },
  {
   "attachments": {},
   "cell_type": "markdown",
   "metadata": {},
   "source": [
    "# All Interactions"
   ]
  },
  {
   "cell_type": "code",
   "execution_count": 100,
   "metadata": {},
   "outputs": [
    {
     "name": "stdout",
     "output_type": "stream",
     "text": [
      "Common interactions across all databases\n",
      "16\n",
      "{'EFNA5 -> EPHA5', 'APP -> CD74', 'FGF1 -> FGFR1', 'EFNA5 -> EPHA7', 'SEMA4D -> PLXNB2', 'SPP1 -> CD44', 'EFNA5 -> EPHB2', 'JAG1 -> NOTCH2', 'NRG2 -> ERBB4', 'NRG3 -> ERBB4', 'PTN -> ALK', 'JAG1 -> NOTCH1', 'SEMA3E -> PLXND1', 'NCAM1 -> FGFR1', 'EFNA5 -> EPHA4', 'NRG1 -> ERBB4'}\n",
      "\n",
      "Common interactions across all databases per cell type pair\n",
      "Neuronal_Neuronal {'EFNA5 -> EPHA5', 'EFNA5 -> EPHA7', 'NRG2 -> ERBB4', 'EFNA5 -> EPHB2', 'NRG3 -> ERBB4', 'EFNA5 -> EPHA4', 'NRG1 -> ERBB4'}\n",
      "Neuronal_Non_neuronal {'APP -> CD74', 'NRG2 -> ERBB4', 'EFNA5 -> EPHB2', 'NRG3 -> ERBB4', 'NRG1 -> ERBB4'}\n",
      "Neuronal_Malignant {'EFNA5 -> EPHA5', 'SEMA4D -> PLXNB2', 'NRG2 -> ERBB4', 'EFNA5 -> EPHB2', 'NRG3 -> ERBB4', 'NCAM1 -> FGFR1', 'NRG1 -> ERBB4'}\n",
      "Neuronal_Mixed {'NRG3 -> ERBB4', 'NRG2 -> ERBB4', 'EFNA5 -> EPHB2', 'NRG1 -> ERBB4'}\n",
      "Mixed_Neuronal {'EFNA5 -> EPHA5', 'EFNA5 -> EPHA7', 'EFNA5 -> EPHB2', 'NRG3 -> ERBB4', 'EFNA5 -> EPHA4', 'NRG1 -> ERBB4'}\n",
      "Non_neuronal_Mixed {'NRG3 -> ERBB4', 'SPP1 -> CD44', 'EFNA5 -> EPHB2'}\n",
      "Mixed_Mixed {'NRG3 -> ERBB4', 'EFNA5 -> EPHB2', 'NRG1 -> ERBB4'}\n",
      "Non_neuronal_Malignant {'EFNA5 -> EPHA5', 'FGF1 -> FGFR1', 'SEMA4D -> PLXNB2', 'SPP1 -> CD44', 'EFNA5 -> EPHB2', 'NRG3 -> ERBB4', 'NCAM1 -> FGFR1'}\n",
      "Non_neuronal_Neuronal {'EFNA5 -> EPHA5', 'EFNA5 -> EPHA7', 'EFNA5 -> EPHB2', 'NRG3 -> ERBB4', 'PTN -> ALK', 'EFNA5 -> EPHA4'}\n",
      "Mixed_Non_neuronal {'NRG3 -> ERBB4', 'APP -> CD74', 'EFNA5 -> EPHB2', 'NRG1 -> ERBB4'}\n",
      "Non_neuronal_Non_neuronal {'NRG3 -> ERBB4', 'APP -> CD74', 'EFNA5 -> EPHB2'}\n",
      "Malignant_Mixed {'EFNA5 -> EPHB2'}\n",
      "Mixed_Malignant {'EFNA5 -> EPHA5', 'EFNA5 -> EPHB2', 'JAG1 -> NOTCH2', 'NRG3 -> ERBB4', 'JAG1 -> NOTCH1', 'NCAM1 -> FGFR1', 'NRG1 -> ERBB4'}\n",
      "Malignant_Non_neuronal {'APP -> CD74', 'EFNA5 -> EPHB2', 'SEMA3E -> PLXND1'}\n",
      "Malignant_Malignant {'NCAM1 -> FGFR1', 'EFNA5 -> EPHA5', 'EFNA5 -> EPHB2'}\n",
      "Malignant_Neuronal {'EFNA5 -> EPHA5', 'EFNA5 -> EPHA7', 'EFNA5 -> EPHB2', 'PTN -> ALK', 'EFNA5 -> EPHA4'}\n",
      "\n",
      "Pairwise resources comparison\n",
      "('cellchat', 'cellphonedb')\n",
      "38\n",
      "{'COL4A3 -> ITGA2_ITGB1', 'EFNA5 -> EPHB2', 'LAMC1 -> ITGA2_ITGB1', 'BMP6 -> ACVR1_ACVR2A', 'JAG1 -> NOTCH1', 'PTPRC -> CD22', 'SEMA3E -> PLXND1', 'COL4A1 -> ITGA2_ITGB1', 'SEMA3A -> NRP1_PLXNA4', 'SPP1 -> CD44', 'JAG1 -> NOTCH2', 'COL4A4 -> ITGA2_ITGB1', 'COL4A2 -> ITGA2_ITGB1', 'CSPG4 -> ITGA3_ITGB1', 'BMP6 -> ACVR2A_BMPR1A', 'APP -> CD74', 'FGF1 -> FGFR1', 'SEMA4D -> PLXNB2', 'FN1 -> ITGA3_ITGB1', 'COL6A1 -> ITGA2_ITGB1', 'NRG3 -> ERBB4', 'COL4A5 -> ITGA2_ITGB1', 'FN1 -> ITGAV_ITGB1', 'LAMC1 -> ITGA6_ITGB1', 'SEMA3A -> NRP1_PLXNA2', 'EFNA5 -> EPHA4', 'BMP6 -> BMPR1A_BMPR2', 'LAMA3 -> ITGA3_ITGB1', 'NRG1 -> ERBB4', 'SEMA3A -> NRP1_PLXNA3', 'EFNA5 -> EPHA5', 'EFNA5 -> EPHA7', 'COL6A2 -> ITGA2_ITGB1', 'NRG2 -> ERBB4', 'BMP6 -> BMPR1B_BMPR2', 'PTN -> ALK', 'NCAM1 -> FGFR1', 'BMP6 -> ACVR1_BMPR2'}\n",
      "('cellchat', 'connectome')\n",
      "29\n",
      "{'PTN -> PTPRZ1', 'EFNA5 -> EPHB2', 'NAMPT -> INSR', 'CD22 -> PTPRC', 'JAG1 -> NOTCH1', 'FGF1 -> FGFR2', 'SEMA3E -> PLXND1', 'PTPRC -> CD22', 'EFNA5 -> EPHA3', 'FN1 -> CD44', 'SPP1 -> CD44', 'JAG1 -> NOTCH2', 'SEMA6A -> PLXNA2', 'SEMA3C -> PLXND1', 'SEMA6A -> PLXNA4', 'APP -> CD74', 'FGF1 -> FGFR1', 'SEMA4D -> PLXNB2', 'NRG3 -> ERBB4', 'NRG2 -> ERBB3', 'EFNA5 -> EPHA4', 'NRG1 -> ERBB3', 'NRG1 -> ERBB4', 'EFNA5 -> EPHA5', 'EFNA5 -> EPHA7', 'LRRC4B -> PTPRF', 'NRG2 -> ERBB4', 'PTN -> ALK', 'NCAM1 -> FGFR1'}\n",
      "('cellchat', 'ramilowski')\n",
      "26\n",
      "{'PTN -> PTPRZ1', 'EFNA5 -> EPHB2', 'NAMPT -> INSR', 'JAG1 -> NOTCH1', 'SEMA3E -> PLXND1', 'FGF1 -> FGFR2', 'EFNA5 -> EPHA3', 'FN1 -> CD44', 'SPP1 -> CD44', 'JAG1 -> NOTCH2', 'SEMA6A -> PLXNA2', 'SEMA3C -> PLXND1', 'SEMA6A -> PLXNA4', 'APP -> CD74', 'FGF1 -> FGFR1', 'SEMA4D -> PLXNB2', 'NRG3 -> ERBB4', 'NRG2 -> ERBB3', 'EFNA5 -> EPHA4', 'NRG1 -> ERBB3', 'NRG1 -> ERBB4', 'EFNA5 -> EPHA5', 'EFNA5 -> EPHA7', 'NRG2 -> ERBB4', 'PTN -> ALK', 'NCAM1 -> FGFR1'}\n",
      "('cellphonedb', 'connectome')\n",
      "26\n",
      "{'VEGFA -> NRP2', 'EFNA5 -> EPHB2', 'JAG1 -> NOTCH1', 'PTPRC -> CD22', 'SEMA3E -> PLXND1', 'PTN -> PLXNB2', 'RSPO3 -> LGR4', 'JAG1 -> CD46', 'SPP1 -> CD44', 'SEMA3A -> NRP1', 'JAG1 -> NOTCH2', 'VEGFA -> NRP1', 'RSPO2 -> LGR4', 'APP -> CD74', 'FGF1 -> FGFR1', 'SEMA4D -> PLXNB2', 'NRG3 -> ERBB4', 'EFNA5 -> EPHA4', 'PTN -> PTPRS', 'NRG1 -> ERBB4', 'EFNA5 -> EPHA5', 'EFNA5 -> EPHA7', 'NRG2 -> ERBB4', 'PTN -> ALK', 'NCAM1 -> FGFR1', 'SEMA3C -> NRP2'}\n",
      "('cellphonedb', 'ramilowski')\n",
      "25\n",
      "{'VEGFA -> NRP2', 'EFNA5 -> EPHB2', 'JAG1 -> NOTCH1', 'SEMA3E -> PLXND1', 'PTN -> PLXNB2', 'RSPO3 -> LGR4', 'SPP1 -> CD44', 'SEMA3A -> NRP1', 'JAG1 -> NOTCH2', 'VEGFA -> EPHB2', 'VEGFA -> NRP1', 'RSPO2 -> LGR4', 'APP -> CD74', 'FGF1 -> FGFR1', 'SEMA4D -> PLXNB2', 'NRG3 -> ERBB4', 'EFNA5 -> EPHA4', 'PTN -> PTPRS', 'NRG1 -> ERBB4', 'EFNA5 -> EPHA5', 'EFNA5 -> EPHA7', 'NRG2 -> ERBB4', 'PTN -> ALK', 'NCAM1 -> FGFR1', 'SEMA3C -> NRP2'}\n",
      "('connectome', 'ramilowski')\n",
      "170\n",
      "{'TF -> TFRC', 'EFNA5 -> EPHA6', 'NLGN2 -> NRXN3', 'HLA-A -> APLP2', 'SLIT2 -> GPC1', 'PSEN1 -> NOTCH1', 'C3 -> ITGAX', 'FGF1 -> FGFR2', 'COL4A1 -> ITGB1', 'COL4A3 -> CD47', 'VIM -> CD44', 'SLIT2 -> ROBO2', 'PTN -> PLXNB2', 'LAMC2 -> ITGB1', 'FGF1 -> NRP1', 'SEMA3A -> NRP1', 'VEGFA -> NRP1', 'CALR -> ITGA3', 'FN1 -> ITGAV', 'RSPO2 -> LGR4', 'NLGN1 -> NRXN2', 'SEMA3B -> NRP2', 'ANXA1 -> EGFR', 'SEMA5A -> MET', 'PTN -> PTPRS', 'EFNA5 -> EPHA5', 'HSPG2 -> ITGB1', 'TFPI -> LRP1', 'COL4A1 -> ITGB8', 'SEMA3A -> PLXNA2', 'CNTN2 -> NRCAM', 'NRG2 -> ERBB4', 'SEMA4D -> MET', 'HSPG2 -> ITGA2', 'NTN4 -> UNC5A', 'APP -> CAV1', 'NTN1 -> UNC5D', 'FN1 -> ITGA8', 'SEMA4B -> DCBLD2', 'SPP1 -> ITGB1', 'BMP6 -> ACVR2A', 'LTBP1 -> ITGB5', 'SEMA3E -> PLXND1', 'FN1 -> ITGB8', 'NTN1 -> UNC5C', 'CNTN2 -> CNTNAP2', 'RSPO3 -> LGR4', 'SPP1 -> ITGA9', 'NLGN1 -> NRXN3', 'RELN -> ITGB1', 'BMP6 -> ACVR1', 'NCAM1 -> ROBO1', 'VEGFA -> GPC1', 'CNTN4 -> PTPRG', 'SEMA6A -> PLXNA4', 'NTN4 -> DCC', 'SEMA4D -> PLXNB2', 'SHANK1 -> ADGRL1', 'ADAM10 -> EPHA3', 'RTN4 -> LINGO1', 'FGF13 -> SCN8A', 'C3 -> LRP1', 'SERPINE1 -> LRP1', 'TIMP2 -> ITGB1', 'RPH3A -> NRXN1', 'SEMA3A -> NRP2', 'EFNA5 -> EPHB6', 'RELN -> ITGA3', 'TNC -> CNTN1', 'SPP1 -> ITGAV', 'FBN1 -> ITGAV', 'VCAN -> EGFR', 'AFDN -> EPHB6', 'FN1 -> ITGA9', 'PSEN1 -> NOTCH2', 'NLGN2 -> NRXN2', 'VCAN -> CD44', 'ANXA1 -> DYSF', 'NTN1 -> DCC', 'VCAN -> ITGB1', 'ADAM9 -> ITGB5', 'CNTN2 -> CNTN1', 'NLGN1 -> NRXN1', 'ADAM9 -> ITGB1', 'BMP6 -> BMPR2', 'COL4A1 -> ITGAV', 'PTN -> PTPRB', 'SEMA3C -> PLXND1', 'AFDN -> EPHA7', 'HLA-B -> CANX', 'APP -> CD74', 'RELN -> LRP8', 'RSPO3 -> LRP6', 'FGF1 -> FGFR1', 'IL18 -> IL1RAPL1', 'LAMC2 -> ITGB4', 'CALR -> ITGAV', 'FN1 -> ITGB1', 'AFDN -> EPHB2', 'EFNA5 -> EPHB1', 'SLIT3 -> ROBO2', 'NTN1 -> NEO1', 'ADAM17 -> ITGB1', 'NRG2 -> ERBB3', 'NRG1 -> ERBB3', 'EFNA5 -> EPHA4', 'COL18A1 -> ITGB1', 'ADAM17 -> NOTCH1', 'SEMA3C -> NRP1', 'SLIT1 -> ROBO1', 'LAMB1 -> ITGB1', 'PTN -> ALK', 'NTN1 -> UNC5A', 'NCAM1 -> FGFR1', 'ADAM9 -> ITGAV', 'SERPINE1 -> LRP2', 'SEMA3C -> NRP2', 'SLIT1 -> GPC1', 'FN1 -> MAG', 'LAMB1 -> ITGA6', 'PSAP -> LRP1', 'ADAM9 -> ITGA3', 'LAMC2 -> ITGA3', 'VEGFA -> NRP2', 'PTN -> PTPRZ1', 'EFNA5 -> EPHB2', 'NAMPT -> INSR', 'CALR -> LRP1', 'SLIT2 -> ROBO1', 'C3 -> CD46', 'SEMA3B -> NRP1', 'JAG1 -> NOTCH1', 'ADAM9 -> ITGA6', 'VCAN -> TLR2', 'EFNA5 -> EPHA3', 'A2M -> LRP1', 'LTBP3 -> ITGB5', 'FN1 -> CD44', 'SPP1 -> CD44', 'APP -> GPC1', 'JAG1 -> NOTCH2', 'SEMA6A -> PLXNA2', 'FBN1 -> ITGB1', 'BMP6 -> BMPR1A', 'NXPH1 -> NRXN1', 'NXPH1 -> NRXN3', 'TNC -> ITGB1', 'TNC -> PTPRB', 'NXPH1 -> NRXN2', 'LAMA2 -> ITGB1', 'HSP90AA1 -> EGFR', 'NRG3 -> ERBB4', 'NTN1 -> UNC5B', 'COL18A1 -> GPC1', 'APP -> LRP1', 'ADAM12 -> ITGA9', 'LAMC2 -> ITGA6', 'BMP6 -> BMPR1B', 'NRG1 -> ERBB4', 'PTDSS1 -> SCARB1', 'ADAM12 -> ITGB1', 'NLGN2 -> NRXN1', 'EFNA5 -> EPHA7', 'COL4A3 -> ITGAV', 'FN1 -> ITGA2', 'TNC -> EGFR', 'SERPINE2 -> LRP1', 'SEMA3A -> PLXNA4', 'TIMP2 -> ITGA3', 'HSPG2 -> PTPRS'}\n"
     ]
    }
   ],
   "source": [
    "cellchat = pd.read_csv(\"../output/liana/CellChatDB.csv\", sep=\"\\t\")\n",
    "cellphonedb = pd.read_csv(\"../output/liana/CellPhoneDB.csv\", sep=\"\\t\")\n",
    "ramilowski = pd.read_csv(\"../output/liana/Ramilowski2015.csv\", sep=\"\\t\")\n",
    "connectome = pd.read_csv(\"../output/liana/ConnectomeDB2020.csv\", sep=\"\\t\")\n",
    "\n",
    "cellchat = pd.concat([cellchat, cellchat.interaction.str.split(\" -> \", expand=True).rename(columns={0: \"ligand\", 1: \"receptor\"})], axis=1)\n",
    "cellphonedb = pd.concat([cellphonedb, cellphonedb.interaction.str.split(\" -> \", expand=True).rename(columns={0: \"ligand\", 1: \"receptor\"})], axis=1)\n",
    "ramilowski = pd.concat([ramilowski, ramilowski.interaction.str.split(\" -> \", expand=True).rename(columns={0: \"ligand\", 1: \"receptor\"})], axis=1)\n",
    "connectome = pd.concat([connectome, connectome.interaction.str.split(\" -> \", expand=True).rename(columns={0: \"ligand\", 1: \"receptor\"})], axis=1)\n",
    "\n",
    "print(\"Common interactions across all databases\")\n",
    "common_interactions = set(cellchat.interaction) & set(cellphonedb.interaction) & set(ramilowski.interaction) & set(connectome.interaction)\n",
    "print(len(common_interactions))\n",
    "print(common_interactions)\n",
    "\n",
    "pd.Series(list(itertools.chain.from_iterable([interaction.split(\" -> \") for interaction in  common_interactions]))).to_csv(\"../output/liana/all_common_interactions.csv\", sep=\",\", index=None, header=None)\n",
    "\n",
    "print(\"\\nCommon interactions across all databases per cell type pair\")\n",
    "for cell_type_pair in cellchat.source_target.unique():\n",
    "    cellchat_subset = cellchat[cellchat.source_target == cell_type_pair]\n",
    "    cellphonedb_subset = cellphonedb[cellphonedb.source_target == cell_type_pair]\n",
    "    ramilowski_subset = ramilowski[ramilowski.source_target == cell_type_pair]\n",
    "    connectome_subset = connectome[connectome.source_target == cell_type_pair]\n",
    "\n",
    "    print(cell_type_pair, set(cellchat_subset.interaction) & set(cellphonedb_subset.interaction) & set(ramilowski_subset.interaction) & set(connectome_subset.interaction))\n",
    "\n",
    "print(\"\\nPairwise resources comparison\")\n",
    "resources = [\"cellchat\", \"cellphonedb\", \"connectome\", \"ramilowski\"]\n",
    "combis = list(itertools.combinations(resources, 2))\n",
    "\n",
    "lr_dict = dict(zip(resources, [set(cellchat.interaction), set(cellphonedb.interaction), set(connectome.interaction), set(ramilowski.interaction)]))\n",
    "\n",
    "for combi in combis: \n",
    "    common = (lr_dict[combi[0]] & lr_dict[combi[1]])\n",
    "    print(combi)\n",
    "    print(len(common))\n",
    "    print(common)"
   ]
  },
  {
   "cell_type": "code",
   "execution_count": 107,
   "metadata": {},
   "outputs": [
    {
     "name": "stdout",
     "output_type": "stream",
     "text": [
      "\n",
      "Compare with literature LRs (all references)\n",
      "all resources vs. literature {'APP -> CD74', 'SEMA4D -> PLXNB2', 'SPP1 -> CD44'}\n",
      "cellchat 9\n",
      "cellphonedb 9\n",
      "connectome 27\n",
      "ramilowski 35\n",
      "\n",
      "Compare with literature LRs (per references)\n",
      "\n",
      " scTHI\n",
      "all resources vs. literature {'APP -> CD74', 'SEMA4D -> PLXNB2', 'SPP1 -> CD44'}\n",
      "Individual sources\n",
      "cellchat 9\n",
      "cellphonedb 9\n",
      "connectome 26\n",
      "ramilowski 34\n",
      "\n",
      " YuanD\n",
      "all resources vs. literature {'APP -> CD74'}\n",
      "Individual sources\n",
      "cellchat 2\n",
      "cellphonedb 1\n",
      "connectome 3\n",
      "ramilowski 5\n"
     ]
    }
   ],
   "source": [
    "# Compare with literature\n",
    "print(\"\\nCompare with literature LRs (all references)\")\n",
    "print(\"all resources vs. literature\", set(lr_pairs_lit.interaction) & common_interactions )\n",
    "for resource in resources:\n",
    "    common = (lr_dict[resource] & set(lr_pairs_lit.interaction))\n",
    "    print(resource, len(common))\n",
    "\n",
    "print(\"\\nCompare with literature LRs (per references)\")\n",
    "\n",
    "# Compare with literature\n",
    "references = lr_pairs_lit.reference.unique()\n",
    "for reference in references:\n",
    "    print(\"\\n\", reference)\n",
    "    lr_pairs_lit_sub = lr_pairs_lit[lr_pairs_lit.reference == reference]\n",
    "    print(\"all resources vs. literature\", set(lr_pairs_lit_sub.interaction) & common_interactions )\n",
    "    print(\"Individual sources\")\n",
    "    for resource in resources:\n",
    "        common = (lr_dict[resource] & set(lr_pairs_lit_sub.interaction))\n",
    "        print(resource, len(common))"
   ]
  },
  {
   "attachments": {},
   "cell_type": "markdown",
   "metadata": {},
   "source": [
    "## Top-10 Comparisons"
   ]
  },
  {
   "cell_type": "code",
   "execution_count": 108,
   "metadata": {},
   "outputs": [
    {
     "name": "stdout",
     "output_type": "stream",
     "text": [
      "Common interactions across all databases\n",
      "7\n",
      "{'APP -> CD74', 'FGF1 -> FGFR1', 'SEMA4D -> PLXNB2', 'SPP1 -> CD44', 'NRG2 -> ERBB4', 'NRG3 -> ERBB4', 'SEMA3E -> PLXND1'}\n",
      "\n",
      "Common interactions across all databases per cell type pair\n",
      "Malignant_Malignant set()\n",
      "Malignant_Neuronal set()\n",
      "Malignant_Non_neuronal {'APP -> CD74', 'SEMA3E -> PLXND1'}\n",
      "Neuronal_Malignant set()\n",
      "Neuronal_Neuronal {'NRG3 -> ERBB4'}\n",
      "Neuronal_Non_neuronal {'NRG3 -> ERBB4', 'NRG2 -> ERBB4', 'APP -> CD74'}\n",
      "Non_neuronal_Malignant {'FGF1 -> FGFR1', 'SEMA4D -> PLXNB2', 'SPP1 -> CD44'}\n",
      "Non_neuronal_Neuronal set()\n",
      "Non_neuronal_Non_neuronal {'APP -> CD74'}\n",
      "\n",
      "Pairwise resources comparison\n",
      "('cellchat', 'cellphonedb')\n",
      "16\n",
      "{'APP -> CD74', 'SEMA3A -> NRP1_PLXNA4', 'FGF1 -> FGFR1', 'EFNA5 -> EPHA7', 'COL6A2 -> ITGA2_ITGB1', 'SEMA4D -> PLXNB2', 'SPP1 -> CD44', 'NRG2 -> ERBB4', 'COL6A1 -> ITGA2_ITGB1', 'NRG3 -> ERBB4', 'PTN -> ALK', 'SEMA3E -> PLXND1', 'PTPRC -> CD22', 'NCAM1 -> FGFR1', 'EFNA5 -> EPHA4', 'NRG1 -> ERBB4'}\n",
      "('cellchat', 'connectome')\n",
      "16\n",
      "{'APP -> CD74', 'NRG2 -> ERBB3', 'FGF1 -> FGFR1', 'FN1 -> CD44', 'PTN -> PTPRZ1', 'SPP1 -> CD44', 'SEMA4D -> PLXNB2', 'NRG2 -> ERBB4', 'NRG3 -> ERBB4', 'CD22 -> PTPRC', 'SEMA6A -> PLXNA2', 'FGF1 -> FGFR2', 'SEMA3E -> PLXND1', 'PTPRC -> CD22', 'NRG1 -> ERBB3', 'SEMA6A -> PLXNA4'}\n",
      "('cellchat', 'ramilowski')\n",
      "15\n",
      "{'APP -> CD74', 'NCAM1 -> FGFR1', 'FGF1 -> FGFR1', 'FN1 -> CD44', 'PTN -> PTPRZ1', 'SPP1 -> CD44', 'SEMA4D -> PLXNB2', 'NRG2 -> ERBB4', 'NRG3 -> ERBB4', 'SEMA6A -> PLXNA2', 'SEMA3E -> PLXND1', 'FGF1 -> FGFR2', 'NRG2 -> ERBB3', 'NRG1 -> ERBB3', 'SEMA6A -> PLXNA4'}\n",
      "('cellphonedb', 'connectome')\n",
      "11\n",
      "{'PTN -> PLXNB2', 'APP -> CD74', 'FGF1 -> FGFR1', 'VEGFA -> NRP2', 'SPP1 -> CD44', 'SEMA4D -> PLXNB2', 'NRG2 -> ERBB4', 'VEGFA -> NRP1', 'NRG3 -> ERBB4', 'SEMA3E -> PLXND1', 'PTPRC -> CD22'}\n",
      "('cellphonedb', 'ramilowski')\n",
      "12\n",
      "{'PTN -> PLXNB2', 'APP -> CD74', 'FGF1 -> FGFR1', 'VEGFA -> NRP2', 'SPP1 -> CD44', 'SEMA4D -> PLXNB2', 'NRG2 -> ERBB4', 'VEGFA -> NRP1', 'NRG3 -> ERBB4', 'SEMA3E -> PLXND1', 'NCAM1 -> FGFR1', 'VEGFA -> EPHB2'}\n",
      "('connectome', 'ramilowski')\n",
      "57\n",
      "{'NTN1 -> UNC5D', 'TF -> TFRC', 'PTN -> PTPRZ1', 'VEGFA -> NRP2', 'AFDN -> EPHB6', 'SLIT2 -> GPC1', 'FN1 -> ITGA9', 'PSEN1 -> NOTCH1', 'SEMA3E -> PLXND1', 'C3 -> ITGAX', 'FGF1 -> FGFR2', 'FN1 -> ITGB8', 'VIM -> CD44', 'NTN1 -> UNC5C', 'VCAN -> TLR2', 'CNTN2 -> CNTNAP2', 'A2M -> LRP1', 'SLIT2 -> ROBO2', 'PTN -> PLXNB2', 'NTN1 -> DCC', 'FN1 -> CD44', 'CNTN2 -> CNTN1', 'SPP1 -> ITGA9', 'SPP1 -> CD44', 'FGF1 -> NRP1', 'VEGFA -> NRP1', 'SEMA6A -> PLXNA2', 'PTN -> PTPRB', 'VEGFA -> GPC1', 'AFDN -> EPHA7', 'CNTN4 -> PTPRG', 'TNC -> PTPRB', 'SEMA6A -> PLXNA4', 'APP -> CD74', 'RELN -> LRP8', 'FGF1 -> FGFR1', 'SEMA4D -> PLXNB2', 'SHANK1 -> ADGRL1', 'NTN1 -> UNC5B', 'NRG3 -> ERBB4', 'NTN1 -> NEO1', 'NRG2 -> ERBB3', 'NRG1 -> ERBB3', 'FGF13 -> SCN8A', 'C3 -> LRP1', 'RPH3A -> NRXN1', 'CNTN2 -> NRCAM', 'NRG2 -> ERBB4', 'SERPINE2 -> LRP1', 'NTN1 -> UNC5A', 'RELN -> ITGA3', 'SERPINE1 -> LRP2', 'NTN4 -> UNC5A', 'SLIT1 -> GPC1', 'FN1 -> MAG', 'TNC -> CNTN1', 'FN1 -> ITGA8'}\n"
     ]
    }
   ],
   "source": [
    "cellchat = pd.read_csv(\"../output/liana/top10_CellChatDB.csv\", sep=\"\\t\")\n",
    "cellphonedb = pd.read_csv(\"../output/liana/top10_CellPhoneDB.csv\", sep=\"\\t\")\n",
    "ramilowski = pd.read_csv(\"../output/liana/top10_Ramilowski2015.csv\", sep=\"\\t\")\n",
    "connectome = pd.read_csv(\"../output/liana/top10_ConnectomeDB2020.csv\", sep=\"\\t\")\n",
    "\n",
    "cellchat = pd.concat([cellchat, cellchat.interaction.str.split(\" -> \", expand=True).rename(columns={0: \"ligand\", 1: \"receptor\"})], axis=1)\n",
    "cellphonedb = pd.concat([cellphonedb, cellphonedb.interaction.str.split(\" -> \", expand=True).rename(columns={0: \"ligand\", 1: \"receptor\"})], axis=1)\n",
    "ramilowski = pd.concat([ramilowski, ramilowski.interaction.str.split(\" -> \", expand=True).rename(columns={0: \"ligand\", 1: \"receptor\"})], axis=1)\n",
    "connectome = pd.concat([connectome, connectome.interaction.str.split(\" -> \", expand=True).rename(columns={0: \"ligand\", 1: \"receptor\"})], axis=1)\n",
    "\n",
    "print(\"Common interactions across all databases\")\n",
    "common_interactions = set(cellchat.interaction) & set(cellphonedb.interaction) & set(ramilowski.interaction) & set(connectome.interaction)\n",
    "print(len(common_interactions))\n",
    "print(common_interactions)\n",
    "\n",
    "pd.Series(list(itertools.chain.from_iterable([interaction.split(\" -> \") for interaction in  common_interactions]))).to_csv(\"../output/liana/all_common_interactions.csv\", sep=\",\", index=None, header=None)\n",
    "\n",
    "print(\"\\nCommon interactions across all databases per cell type pair\")\n",
    "for cell_type_pair in cellchat.source_target.unique():\n",
    "    cellchat_subset = cellchat[cellchat.source_target == cell_type_pair]\n",
    "    cellphonedb_subset = cellphonedb[cellphonedb.source_target == cell_type_pair]\n",
    "    ramilowski_subset = ramilowski[ramilowski.source_target == cell_type_pair]\n",
    "    connectome_subset = connectome[connectome.source_target == cell_type_pair]\n",
    "\n",
    "    print(cell_type_pair, set(cellchat_subset.interaction) & set(cellphonedb_subset.interaction) & set(ramilowski_subset.interaction) & set(connectome_subset.interaction))\n",
    "\n",
    "print(\"\\nPairwise resources comparison\")\n",
    "resources = [\"cellchat\", \"cellphonedb\", \"connectome\", \"ramilowski\"]\n",
    "combis = list(itertools.combinations(resources, 2))\n",
    "lr_dict = dict(zip(resources, [set(cellchat.interaction), set(cellphonedb.interaction), set(connectome.interaction), set(ramilowski.interaction)]))\n",
    "\n",
    "for combi in combis: \n",
    "    common = (lr_dict[combi[0]] & lr_dict[combi[1]])\n",
    "    print(combi)\n",
    "    print(len(common))\n",
    "    print(common)"
   ]
  },
  {
   "cell_type": "code",
   "execution_count": 109,
   "metadata": {},
   "outputs": [
    {
     "name": "stdout",
     "output_type": "stream",
     "text": [
      "\n",
      "Compare with literature LRs (all references)\n",
      "all resources vs. literature {'APP -> CD74', 'SEMA4D -> PLXNB2', 'SPP1 -> CD44'}\n",
      "cellchat 9\n",
      "cellphonedb 9\n",
      "connectome 27\n",
      "ramilowski 35\n",
      "\n",
      "Compare with literature LRs (per references)\n",
      "\n",
      " scTHI\n",
      "all resources vs. literature {'APP -> CD74', 'SEMA4D -> PLXNB2', 'SPP1 -> CD44'}\n",
      "Individual sources\n",
      "cellchat 9\n",
      "cellphonedb 9\n",
      "connectome 26\n",
      "ramilowski 34\n",
      "\n",
      " YuanD\n",
      "all resources vs. literature {'APP -> CD74'}\n",
      "Individual sources\n",
      "cellchat 2\n",
      "cellphonedb 1\n",
      "connectome 3\n",
      "ramilowski 5\n"
     ]
    }
   ],
   "source": [
    "# Compare with literature\n",
    "print(\"\\nCompare with literature LRs (all references)\")\n",
    "print(\"all resources vs. literature\", set(lr_pairs_lit.interaction) & common_interactions )\n",
    "for resource in resources:\n",
    "    common = (lr_dict[resource] & set(lr_pairs_lit.interaction))\n",
    "    print(resource, len(common))\n",
    "\n",
    "print(\"\\nCompare with literature LRs (per references)\")\n",
    "\n",
    "# Compare with literature\n",
    "references = lr_pairs_lit.reference.unique()\n",
    "for reference in references:\n",
    "    print(\"\\n\", reference)\n",
    "    lr_pairs_lit_sub = lr_pairs_lit[lr_pairs_lit.reference == reference]\n",
    "    print(\"all resources vs. literature\", set(lr_pairs_lit_sub.interaction) & common_interactions )\n",
    "    print(\"Individual sources\")\n",
    "    for resource in resources:\n",
    "        common = (lr_dict[resource] & set(lr_pairs_lit_sub.interaction))\n",
    "        print(resource, len(common))\n",
    "        \n"
   ]
  }
 ],
 "metadata": {
  "kernelspec": {
   "display_name": "base",
   "language": "python",
   "name": "python3"
  },
  "language_info": {
   "codemirror_mode": {
    "name": "ipython",
    "version": 3
   },
   "file_extension": ".py",
   "mimetype": "text/x-python",
   "name": "python",
   "nbconvert_exporter": "python",
   "pygments_lexer": "ipython3",
   "version": "3.10.8"
  },
  "orig_nbformat": 4,
  "vscode": {
   "interpreter": {
    "hash": "c6e4e9f98eb68ad3b7c296f83d20e6de614cb42e90992a65aa266555a3137d0d"
   }
  }
 },
 "nbformat": 4,
 "nbformat_minor": 2
}
